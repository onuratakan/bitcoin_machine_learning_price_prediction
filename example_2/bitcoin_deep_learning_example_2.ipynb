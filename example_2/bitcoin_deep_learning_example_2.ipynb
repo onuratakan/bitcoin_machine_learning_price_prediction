{
  "nbformat": 4,
  "nbformat_minor": 0,
  "metadata": {
    "colab": {
      "name": "Bitcoin machine learning 2.ipynb",
      "provenance": [],
      "collapsed_sections": []
    },
    "kernelspec": {
      "name": "python3",
      "display_name": "Python 3"
    },
    "accelerator": "GPU"
  },
  "cells": [
    {
      "cell_type": "markdown",
      "metadata": {
        "id": "w11nTtm78ovp"
      },
      "source": [
        "## Importing the requirements"
      ]
    },
    {
      "cell_type": "code",
      "metadata": {
        "id": "G-qh-TUHgA0z"
      },
      "source": [
        "import pandas as pd\r\n",
        "import numpy as np\r\n",
        "\r\n",
        "from collections import deque\r\n",
        "import random\r\n",
        "\r\n",
        "\r\n",
        "from sklearn import preprocessing\r\n",
        "\r\n",
        "from google.colab import files\r\n",
        "\r\n",
        "\r\n",
        "import time\r\n",
        "\r\n",
        "\r\n",
        "\r\n",
        "import tensorflow as tf\r\n",
        "from tensorflow.keras.models import Sequential\r\n",
        "from tensorflow.compat.v1.keras.layers import CuDNNLSTM\r\n",
        "from tensorflow.keras.layers import Dense, Dropout, LSTM, BatchNormalization\r\n",
        "from tensorflow.keras.callbacks import TensorBoard\r\n",
        "from tensorflow.keras.callbacks import ModelCheckpoint"
      ],
      "execution_count": null,
      "outputs": []
    },
    {
      "cell_type": "markdown",
      "metadata": {
        "id": "fEKYpl_383U4"
      },
      "source": [
        "## Uploading the data and setting"
      ]
    },
    {
      "cell_type": "code",
      "metadata": {
        "id": "QRXtqJ7C85pf"
      },
      "source": [
        "#Download(https://www.kaggle.com/prasoonkottarathil/btcinusd) and upload daat set\r\n",
        "uploaded = files.upload()"
      ],
      "execution_count": null,
      "outputs": []
    },
    {
      "cell_type": "markdown",
      "metadata": {
        "id": "YHH-AKPfgTBO"
      },
      "source": [
        "## Working on the data set"
      ]
    },
    {
      "cell_type": "markdown",
      "metadata": {
        "id": "rBYV7uMa93bQ"
      },
      "source": [
        "Storing the data into a variable"
      ]
    },
    {
      "cell_type": "code",
      "metadata": {
        "id": "yaVa6fx_gdMO"
      },
      "source": [
        "df = pd.read_csv(\"BTCUSD_day.csv\")\r\n",
        "\r\n",
        "#Show the first 7 rows of data\r\n",
        "print(df.head(7))"
      ],
      "execution_count": null,
      "outputs": []
    },
    {
      "cell_type": "code",
      "metadata": {
        "id": "tWYL3nc1gzgm"
      },
      "source": [
        "main_df = pd.DataFrame() # begin empty\r\n",
        "\r\n",
        "\r\n",
        "\r\n",
        "\r\n",
        "# rename volume and close to include the ticker so we can still which close/volume is which:\r\n",
        "\r\n",
        "df.set_index(\"Date\", inplace=True)  # set time as index so we can join them on this shared time\r\n",
        "df = df[[f\"Close\", f\"Volume BTC\"]]  # ignore the other columns besides price and volume\r\n",
        "\r\n",
        "if len(main_df)==0:  # if the dataframe is empty\r\n",
        "    main_df = df  # then it's just the current df\r\n",
        "else:  # otherwise, join this data to the main one\r\n",
        "    main_df = main_df.join(df)\r\n",
        "\r\n",
        "main_df.fillna(method=\"ffill\", inplace=True)  # if there are gaps in data, use previously known values\r\n",
        "main_df.dropna(inplace=True)\r\n",
        "print(main_df.head())  # how did we do??"
      ],
      "execution_count": null,
      "outputs": []
    },
    {
      "cell_type": "code",
      "metadata": {
        "id": "1-MwRu1ihdVd"
      },
      "source": [
        "SEQ_LEN = 60  # how long of a preceeding sequence to collect for RNN\r\n",
        "FUTURE_PERIOD_PREDICT = 3  # how far into the future are we trying to predict?\r\n",
        "\r\n",
        "EPOCHS = 10  # how many passes through our data\r\n",
        "BATCH_SIZE = 64  # how many batches? Try smaller batch if you're getting OOM (out of memory) errors.\r\n",
        "NAME = f\"{SEQ_LEN}-SEQ-{FUTURE_PERIOD_PREDICT}-PRED-{int(time.time())}\"  # a unique name for the model\r\n",
        "\r\n",
        "#Changing the name constant to include the ratio we're predicting:\r\n",
        "#NAME = f\"{RATIO_TO_PREDICT}-{SEQ_LEN}-SEQ-{FUTURE_PERIOD_PREDICT}-PRED-{int(time.time())}\""
      ],
      "execution_count": null,
      "outputs": []
    },
    {
      "cell_type": "code",
      "metadata": {
        "id": "AdHyAUa2jxEu"
      },
      "source": [
        "def classify(current, future):\r\n",
        "    if float(future) > float(current):\r\n",
        "        return 1\r\n",
        "    else:\r\n",
        "        return 0\r\n",
        "\r\n",
        "\r\n",
        "\r\n",
        "\r\n",
        "def preprocess_df(df):\r\n",
        "    df = df.drop(\"future\",1)\r\n",
        "    for col in df.columns:\r\n",
        "      if col != \"target\":\r\n",
        "        if not col == \"Volume BTC\":\r\n",
        "         df[col] = df[col].pct_change()  # pct change \"normalizes\" the different currencies (each crypto coin has vastly diff values, we're really more interested in the other coin's movements)\r\n",
        "         df.dropna(inplace=True)  # remove the nas created by pct_change\r\n",
        "         df[col] = preprocessing.scale(df[col].values)  # scale between 0 and 1.\r\n",
        "  \r\n",
        "    df.dropna(inplace=True)  # cleanup again... jic.\r\n",
        "\r\n",
        "\r\n",
        "    sequential_data = []  # this is a list that will CONTAIN the sequences\r\n",
        "    prev_days = deque(maxlen=SEQ_LEN)  # These will be our actual sequences. They are made with deque, which keeps the maximum length by popping out older values as new ones come in\r\n",
        "\r\n",
        "    for i in df.values:  # iterate over the values\r\n",
        "        prev_days.append([n for n in i[:-1]])  # store all but the target\r\n",
        "        if len(prev_days) == SEQ_LEN:  # make sure we have 60 sequences!\r\n",
        "            sequential_data.append([np.array(prev_days), i[-1]])  # append those bad boys!\r\n",
        "\r\n",
        "    random.shuffle(sequential_data)  # shuffle for good measure.\r\n",
        "\r\n",
        "    buys = []  # list that will store our buy sequences and targets\r\n",
        "    sells = []  # list that will store our sell sequences and targets\r\n",
        "\r\n",
        "    for seq, target in sequential_data:  # iterate over the sequential data\r\n",
        "        if target == 0:  # if it's a \"not buy\"\r\n",
        "            sells.append([seq, target])  # append to sells list\r\n",
        "        elif target == 1:  # otherwise if the target is a 1...\r\n",
        "            buys.append([seq, target])  # it's a buy!\r\n",
        "\r\n",
        "    random.shuffle(buys)  # shuffle the buys\r\n",
        "    random.shuffle(sells)  # shuffle the sells!\r\n",
        "\r\n",
        "    lower = min(len(buys), len(sells))  # what's the shorter length?\r\n",
        "\r\n",
        "    buys = buys[:lower]  # make sure both lists are only up to the shortest length.\r\n",
        "    sells = sells[:lower]  # make sure both lists are only up to the shortest length.\r\n",
        "\r\n",
        "    sequential_data = buys+sells  # add them together\r\n",
        "    random.shuffle(sequential_data)  # another shuffle, so the model doesn't get confused with all 1 class then the other.\r\n",
        "\r\n",
        "    X = []\r\n",
        "    y = []\r\n",
        "\r\n",
        "    for seq, target in sequential_data:  # going over our new sequential data\r\n",
        "        X.append(seq)  # X is the sequences\r\n",
        "        y.append(target)  # y is the targets/labels (buys vs sell/notbuy)\r\n",
        "\r\n",
        "    return np.array(X), y  # return X and y...and make X a numpy array!\r\n",
        "\r\n",
        "\r\n",
        "main_df = pd.DataFrame() # begin empty\r\n",
        "\r\n",
        "\r\n",
        "ratio = \"BTCUSD_day.csv\"\r\n",
        "\r\n",
        "ratio = ratio.split('.csv')[0]  # split away the ticker from the file-name\r\n",
        "dataset = f'{ratio}.csv'  # get the full path to the file.\r\n",
        "df = pd.read_csv(dataset)  # read in specific file\r\n",
        "\r\n",
        "    # rename volume and close to include the ticker so we can still which close/volume is which:\r\n",
        "df.rename(columns={\"close\": f\"Close\", \"volume\": f\"Volume BTC\"}, inplace=True)\r\n",
        "\r\n",
        "df.set_index(\"Date\", inplace=True)  # set time as index so we can join them on this shared time\r\n",
        "df = df[[f\"Close\", f\"Volume BTC\"]]  # ignore the other columns besides price and volume\r\n",
        "\r\n",
        "if len(main_df)==0:  # if the dataframe is empty\r\n",
        "    main_df = df  # then it's just the current df\r\n",
        "else:  # otherwise, join this data to the main one\r\n",
        "    main_df = main_df.join(df)\r\n",
        "\r\n",
        "main_df.fillna(method=\"ffill\", inplace=True)  # if there are gaps in data, use previously known values\r\n",
        "main_df.dropna(inplace=True)\r\n",
        "#print(main_df.head())  # how did we do??\r\n"
      ],
      "execution_count": null,
      "outputs": []
    },
    {
      "cell_type": "code",
      "metadata": {
        "id": "N1aYGciShgCN"
      },
      "source": [
        "main_df['future'] = main_df[f'Close'].shift(-FUTURE_PERIOD_PREDICT)\r\n",
        "main_df['target'] = list(map(classify, main_df[f'Close'], main_df['future']))\r\n",
        "\r\n",
        "main_df.dropna(inplace=True)\r\n",
        "\r\n",
        "## here, split away some slice of the future data from the main main_df.\r\n",
        "times = sorted(main_df.index.values)\r\n",
        "last_5pct = sorted(main_df.index.values)[-int(0.05*len(times))]\r\n",
        "\r\n",
        "validation_main_df = main_df[(main_df.index >= last_5pct)]\r\n",
        "main_df = main_df[(main_df.index < last_5pct)]\r\n",
        "\r\n",
        "train_x, train_y = preprocess_df(main_df)\r\n",
        "validation_x, validation_y = preprocess_df(validation_main_df)\r\n",
        "\r\n",
        "print(f\"train data: {len(train_x)} validation: {len(validation_x)}\")\r\n",
        "print(f\"Dont buys: {train_y.count(0)}, buys: {train_y.count(1)}\")\r\n",
        "print(f\"VALIDATION Dont buys: {validation_y.count(0)}, buys: {validation_y.count(1)}\")"
      ],
      "execution_count": null,
      "outputs": []
    },
    {
      "cell_type": "code",
      "metadata": {
        "id": "v9XnGHTCSgdm"
      },
      "source": [
        "model = Sequential()\r\n",
        "model.add(CuDNNLSTM(128, input_shape=(train_x.shape[1:]), return_sequences=True))\r\n",
        "model.add(Dropout(0.2))\r\n",
        "model.add(BatchNormalization())\r\n",
        "\r\n",
        "model.add(CuDNNLSTM(128, return_sequences=True))\r\n",
        "model.add(Dropout(0.1))\r\n",
        "model.add(BatchNormalization())\r\n",
        "\r\n",
        "model.add(CuDNNLSTM(128))\r\n",
        "model.add(Dropout(0.2))\r\n",
        "model.add(BatchNormalization())\r\n",
        "\r\n",
        "model.add(Dense(32, activation='relu'))\r\n",
        "model.add(Dropout(0.2))\r\n",
        "\r\n",
        "model.add(Dense(2, activation='softmax'))\r\n",
        "\r\n",
        "\r\n",
        "opt = tf.keras.optimizers.Adam(lr=0.001, decay=1e-6)\r\n",
        "\r\n",
        "# Compile model\r\n",
        "model.compile(\r\n",
        "    loss='sparse_categorical_crossentropy',\r\n",
        "    optimizer=opt,\r\n",
        "    metrics=['accuracy']\r\n",
        ")\r\n",
        "\r\n",
        "tensorboard = TensorBoard(log_dir=\"logs/{}\".format(NAME))\r\n",
        "\r\n",
        "\r\n",
        "filepath = \"RNN_Final-{epoch:02d}-{val_accuracy:.3f}.hdf5\"  # unique file name that will include the epoch and the validation acc for that epoch\r\n",
        "checkpoint = ModelCheckpoint(\"models/checkpoint/{}\".format(filepath, monitor='val_accuracy', verbose=1, save_best_only=True, mode='max')) # saves only the best ones\r\n",
        "\r\n",
        "\r\n",
        "\r\n",
        "\r\n",
        "\r\n"
      ],
      "execution_count": null,
      "outputs": []
    },
    {
      "cell_type": "code",
      "metadata": {
        "id": "uUMPpSaRB_tI"
      },
      "source": [
        "# Train model\r\n",
        "history = model.fit(train_x, np.array(train_y),batch_size=BATCH_SIZE,epochs=EPOCHS,validation_data=(validation_x, np.array(validation_y)),callbacks=[tensorboard, checkpoint],)\r\n"
      ],
      "execution_count": null,
      "outputs": []
    },
    {
      "cell_type": "code",
      "metadata": {
        "id": "UoaPmQzlB9vD"
      },
      "source": [
        "# Score model\r\n",
        "score = model.evaluate(validation_x, np.array(validation_y), verbose=0)\r\n",
        "print('Test loss:', score[0])\r\n",
        "print('Test accuracy:', score[1])"
      ],
      "execution_count": null,
      "outputs": []
    },
    {
      "cell_type": "code",
      "metadata": {
        "id": "J8E7t5y_BqSK"
      },
      "source": [
        "# Save model\r\n",
        "model.save(\"models/{}\".format(NAME)+\".hdf5\")"
      ],
      "execution_count": null,
      "outputs": []
    },
    {
      "cell_type": "markdown",
      "metadata": {
        "id": "ZTYZmVctwB0x"
      },
      "source": [
        "## Loading model and predict"
      ]
    },
    {
      "cell_type": "code",
      "metadata": {
        "id": "OpKGCH-ZwH3Z"
      },
      "source": [
        "model = tf.keras.models.load_model('/content/model/60-SEQ-3-PRED-1611314204.hdf5')"
      ],
      "execution_count": null,
      "outputs": []
    },
    {
      "cell_type": "code",
      "metadata": {
        "id": "_9858SVswZIq"
      },
      "source": [
        "model_predict = model.predict(np.array([[[21313,32131]]]))"
      ],
      "execution_count": null,
      "outputs": []
    },
    {
      "cell_type": "code",
      "metadata": {
        "id": "unpE6m7_wm_6"
      },
      "source": [
        "print(model_predict)"
      ],
      "execution_count": null,
      "outputs": []
    }
  ]
}
