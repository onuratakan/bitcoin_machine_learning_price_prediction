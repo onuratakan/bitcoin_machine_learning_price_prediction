{
  "nbformat": 4,
  "nbformat_minor": 0,
  "metadata": {
    "colab": {
      "name": "Bitcoin machine learning.ipynb",
      "provenance": [],
      "collapsed_sections": []
    },
    "kernelspec": {
      "name": "python3",
      "display_name": "Python 3"
    },
    "accelerator": "GPU"
  },
  "cells": [
    {
      "cell_type": "markdown",
      "metadata": {
        "id": "w11nTtm78ovp"
      },
      "source": [
        "## Importing the requirements"
      ]
    },
    {
      "cell_type": "code",
      "metadata": {
        "id": "9PyIAk8Q8a1y"
      },
      "source": [
        "import pandas as pd\r\n",
        "import numpy as np\r\n",
        "\r\n",
        "from google.colab import files\r\n",
        "\r\n",
        "from sklearn.model_selection import train_test_split\r\n",
        "\r\n",
        "from sklearn.svm import SVR\r\n",
        "\r\n",
        "from sklearn import preprocessing"
      ],
      "execution_count": null,
      "outputs": []
    },
    {
      "cell_type": "markdown",
      "metadata": {
        "id": "fEKYpl_383U4"
      },
      "source": [
        "## Uploading the data and setting"
      ]
    },
    {
      "cell_type": "code",
      "metadata": {
        "id": "QRXtqJ7C85pf"
      },
      "source": [
        "#Download(https://www.kaggle.com/prasoonkottarathil/btcinusd) and upload daat set\r\n",
        "uploaded = files.upload()"
      ],
      "execution_count": null,
      "outputs": []
    },
    {
      "cell_type": "markdown",
      "metadata": {
        "id": "YHH-AKPfgTBO"
      },
      "source": [
        "## Working on the data set"
      ]
    },
    {
      "cell_type": "markdown",
      "metadata": {
        "id": "rBYV7uMa93bQ"
      },
      "source": [
        "Storing the data into a variable"
      ]
    },
    {
      "cell_type": "code",
      "metadata": {
        "id": "5ilv_e9F96A5"
      },
      "source": [
        "df = pd.read_csv(\"BTCUSD_day.csv\")\r\n",
        "\r\n",
        "#Show the first 7 rows of data\r\n",
        "df.head(7)"
      ],
      "execution_count": null,
      "outputs": []
    },
    {
      "cell_type": "markdown",
      "metadata": {
        "id": "Ah5F2MnG-S5H"
      },
      "source": [
        "Remove the some data from column"
      ]
    },
    {
      "cell_type": "code",
      "metadata": {
        "id": "kL2G-pJ4-X_4"
      },
      "source": [
        "df.drop([\"Date\",\"Symbol\",\"Open\",\"High\",\"Low\",\"Volume USD\",\"Volume BTC\"],1,inplace=True)"
      ],
      "execution_count": null,
      "outputs": []
    },
    {
      "cell_type": "markdown",
      "metadata": {
        "id": "z9fNXs7M-4LZ"
      },
      "source": [
        "Reshow first 7 of new datashet"
      ]
    },
    {
      "cell_type": "code",
      "metadata": {
        "id": "8uYNY2nn-2TY"
      },
      "source": [
        "df.head(7)"
      ],
      "execution_count": null,
      "outputs": []
    },
    {
      "cell_type": "markdown",
      "metadata": {
        "id": "a0F2e3LP_vrZ"
      },
      "source": [
        "A variable for predicting \"n\" days out into the future"
      ]
    },
    {
      "cell_type": "code",
      "metadata": {
        "id": "XsV_f_kiAAV3"
      },
      "source": [
        "prediction_days = 30"
      ],
      "execution_count": null,
      "outputs": []
    },
    {
      "cell_type": "markdown",
      "metadata": {
        "id": "JVK8wEGUAIVQ"
      },
      "source": [
        "Create another column shifted \"n\" units up"
      ]
    },
    {
      "cell_type": "code",
      "metadata": {
        "id": "sVnrdRhAAL-w"
      },
      "source": [
        "df[\"Prediction\"] = df[[\"Close\"]].shift(-prediction_days)"
      ],
      "execution_count": null,
      "outputs": []
    },
    {
      "cell_type": "markdown",
      "metadata": {
        "id": "QfSw-m3SAfIY"
      },
      "source": [
        "Reshow first 7 of new datashet"
      ]
    },
    {
      "cell_type": "code",
      "metadata": {
        "id": "WO4sJIzSAfIf"
      },
      "source": [
        "df.head(7)"
      ],
      "execution_count": null,
      "outputs": []
    },
    {
      "cell_type": "markdown",
      "metadata": {
        "id": "xVgSocAyAvLY"
      },
      "source": [
        "Show last 7 of new data set"
      ]
    },
    {
      "cell_type": "code",
      "metadata": {
        "id": "vyaaq7zEAvLd"
      },
      "source": [
        "df.tail(7)"
      ],
      "execution_count": null,
      "outputs": []
    },
    {
      "cell_type": "markdown",
      "metadata": {
        "id": "IpdhUbufBByK"
      },
      "source": [
        "Create the independent data set"
      ]
    },
    {
      "cell_type": "code",
      "metadata": {
        "id": "pIJm5lqNBFZR"
      },
      "source": [
        "# Convert the dataframe to a numpy array and drop the prediction column\r\n",
        "X = np.array(df.drop([\"Prediction\"],1))\r\n",
        "\r\n",
        "#Remove the last \"n\" rows where \"n\" is the prediction_days\r\n",
        "X = X[:len(df)-prediction_days]\r\n",
        "\r\n",
        "print(X)"
      ],
      "execution_count": null,
      "outputs": []
    },
    {
      "cell_type": "markdown",
      "metadata": {
        "id": "rNkIHobwBsn5"
      },
      "source": [
        "Create the dependent data set"
      ]
    },
    {
      "cell_type": "code",
      "metadata": {
        "id": "Cp8HNkLWB6fC"
      },
      "source": [
        "#Convert teh dataframe to a numpy array\r\n",
        "\r\n",
        "\r\n",
        "\r\n",
        "y = np.array(df[\"Prediction\"])\r\n",
        "\r\n",
        "#Get all of the values except the last \"n\" rows\r\n",
        "y = y[:-prediction_days]\r\n",
        "\r\n",
        "\r\n",
        "\r\n",
        "print(y)"
      ],
      "execution_count": null,
      "outputs": []
    },
    {
      "cell_type": "markdown",
      "metadata": {
        "id": "ypZihKprCT46"
      },
      "source": [
        "Split the data into 60% training and %40 testing"
      ]
    },
    {
      "cell_type": "code",
      "metadata": {
        "id": "BsPEbV9XCYxR"
      },
      "source": [
        "x_train, x_test, y_train, y_test = train_test_split(X,y, test_size = 0.4)"
      ],
      "execution_count": null,
      "outputs": []
    },
    {
      "cell_type": "markdown",
      "metadata": {
        "id": "QcYlnOMUCrIq"
      },
      "source": [
        "Set the prediction_days_array to the last 30 rows from the original data set"
      ]
    },
    {
      "cell_type": "code",
      "metadata": {
        "id": "HHF4AB8vCtmQ"
      },
      "source": [
        "prediction_days_array = np.array(df.drop([\"Prediction\"],1))[-prediction_days:]\r\n",
        "\r\n",
        "print(prediction_days_array)"
      ],
      "execution_count": null,
      "outputs": []
    },
    {
      "cell_type": "markdown",
      "metadata": {
        "id": "acjRxhXuDTsb"
      },
      "source": [
        "Create and train the Support Vector Machine (Regression) using radial basic function"
      ]
    },
    {
      "cell_type": "code",
      "metadata": {
        "id": "6f60gfezDzM5"
      },
      "source": [
        "\r\n",
        "\r\n",
        "svr_rbf = SVR(kernel=\"rbf\", C=1e3, gamma=0.00001)\r\n",
        "svr_rbf.fit(x_train, y_train)\r\n"
      ],
      "execution_count": null,
      "outputs": []
    },
    {
      "cell_type": "markdown",
      "metadata": {
        "id": "5kH3f7l4FgkZ"
      },
      "source": [
        "Test the model"
      ]
    },
    {
      "cell_type": "code",
      "metadata": {
        "id": "A3R6O9rAFijZ"
      },
      "source": [
        "svr_rbf_confidence = svr_rbf.score(x_test, y_test)\r\n",
        "\r\n",
        "print(\"svr_rbf accuracy: \", svr_rbf_confidence)"
      ],
      "execution_count": null,
      "outputs": []
    },
    {
      "cell_type": "markdown",
      "metadata": {
        "id": "SYvnClx1F1mo"
      },
      "source": [
        "Print the predicted values"
      ]
    },
    {
      "cell_type": "code",
      "metadata": {
        "id": "h2XzgwMtF30B"
      },
      "source": [
        "svm_prediction = svr_rbf.predict(x_test)\r\n",
        "\r\n",
        "print(svm_prediction)\r\n",
        "\r\n",
        "\r\n",
        "print()\r\n",
        "\r\n",
        "\r\n",
        "#Print the actual values\r\n",
        "print(y_test)"
      ],
      "execution_count": null,
      "outputs": []
    },
    {
      "cell_type": "markdown",
      "metadata": {
        "id": "SwrHAwyYGdlZ"
      },
      "source": [
        "Print the model predictions for the next \"n=30\" days"
      ]
    },
    {
      "cell_type": "code",
      "metadata": {
        "id": "rd_dWRP1GiUQ"
      },
      "source": [
        "svm_prediction = svr_rbf.predict(prediction_days_array)\r\n",
        "#svm_prediction = svr_rbf.predict(np.array([[36075], [35889], [30809], [31600]]))\r\n",
        "\r\n",
        "print(svm_prediction)\r\n",
        "\r\n",
        "print()\r\n",
        "\r\n",
        "#Print the actual price for Bitcoin for the last 30 days\r\n",
        "print(df.tail(prediction_days))"
      ],
      "execution_count": null,
      "outputs": []
    }
  ]
}
